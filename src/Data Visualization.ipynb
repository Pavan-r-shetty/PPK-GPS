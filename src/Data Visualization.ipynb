{
 "cells": [
  {
   "cell_type": "code",
   "execution_count": null,
   "id": "d31d52fa",
   "metadata": {},
   "outputs": [],
   "source": [
    "\n"
   ]
  },
  {
   "cell_type": "code",
   "execution_count": 248,
   "id": "c9746fb1",
   "metadata": {},
   "outputs": [],
   "source": [
    "import numpy as np\n",
    "import matplotlib.pyplot as plt\n",
    "import csv\n",
    "import pandas as pd\n",
    "import statistics \n"
   ]
  },
  {
   "cell_type": "code",
   "execution_count": null,
   "id": "cd591a69",
   "metadata": {},
   "outputs": [],
   "source": []
  },
  {
   "cell_type": "code",
   "execution_count": null,
   "id": "a3c1fc8d",
   "metadata": {},
   "outputs": [],
   "source": [
    "##### stationary data analysis"
   ]
  },
  {
   "cell_type": "code",
   "execution_count": null,
   "id": "e527cdd1",
   "metadata": {},
   "outputs": [],
   "source": []
  },
  {
   "cell_type": "code",
   "execution_count": 249,
   "id": "fbb634f8",
   "metadata": {},
   "outputs": [],
   "source": [
    "stationary_data = pd.read_csv('2022-02-08-16-11-28-gps_message.csv')"
   ]
  },
  {
   "cell_type": "code",
   "execution_count": null,
   "id": "0b3bfc17",
   "metadata": {
    "scrolled": true
   },
   "outputs": [],
   "source": []
  },
  {
   "cell_type": "code",
   "execution_count": 250,
   "id": "2ca4a03c",
   "metadata": {},
   "outputs": [],
   "source": [
    "e0=stationary_data['.utm_easting']\n",
    "n0=stationary_data['.utm_northing']\n",
    "a0=stationary_data['.altitude']\n",
    "t=np.linspace(0,627,626)\n"
   ]
  },
  {
   "cell_type": "code",
   "execution_count": 251,
   "id": "6f98db42",
   "metadata": {},
   "outputs": [
    {
     "data": {
      "text/html": [
       "<div>\n",
       "<style scoped>\n",
       "    .dataframe tbody tr th:only-of-type {\n",
       "        vertical-align: middle;\n",
       "    }\n",
       "\n",
       "    .dataframe tbody tr th {\n",
       "        vertical-align: top;\n",
       "    }\n",
       "\n",
       "    .dataframe thead th {\n",
       "        text-align: right;\n",
       "    }\n",
       "</style>\n",
       "<table border=\"1\" class=\"dataframe\">\n",
       "  <thead>\n",
       "    <tr style=\"text-align: right;\">\n",
       "      <th></th>\n",
       "      <th>time</th>\n",
       "      <th>.header</th>\n",
       "      <th>.latitude</th>\n",
       "      <th>.longitude</th>\n",
       "      <th>.altitude</th>\n",
       "      <th>.utm_easting</th>\n",
       "      <th>.utm_northing</th>\n",
       "      <th>.zone</th>\n",
       "      <th>.letter</th>\n",
       "    </tr>\n",
       "  </thead>\n",
       "  <tbody>\n",
       "    <tr>\n",
       "      <th>0</th>\n",
       "      <td>2022/02/08/16:11:29.101501</td>\n",
       "      <td>$GPGGA</td>\n",
       "      <td>42.340527</td>\n",
       "      <td>-71.097990</td>\n",
       "      <td>10.3</td>\n",
       "      <td>327175.245404</td>\n",
       "      <td>4.689717e+06</td>\n",
       "      <td>19</td>\n",
       "      <td>T</td>\n",
       "    </tr>\n",
       "    <tr>\n",
       "      <th>1</th>\n",
       "      <td>2022/02/08/16:11:30.101131</td>\n",
       "      <td>$GPGGA</td>\n",
       "      <td>42.340527</td>\n",
       "      <td>-71.097995</td>\n",
       "      <td>9.5</td>\n",
       "      <td>327174.833505</td>\n",
       "      <td>4.689717e+06</td>\n",
       "      <td>19</td>\n",
       "      <td>T</td>\n",
       "    </tr>\n",
       "    <tr>\n",
       "      <th>2</th>\n",
       "      <td>2022/02/08/16:11:31.102697</td>\n",
       "      <td>$GPGGA</td>\n",
       "      <td>42.340527</td>\n",
       "      <td>-71.097995</td>\n",
       "      <td>9.5</td>\n",
       "      <td>327174.833505</td>\n",
       "      <td>4.689717e+06</td>\n",
       "      <td>19</td>\n",
       "      <td>T</td>\n",
       "    </tr>\n",
       "    <tr>\n",
       "      <th>3</th>\n",
       "      <td>2022/02/08/16:11:32.089739</td>\n",
       "      <td>$GPGGA</td>\n",
       "      <td>42.340527</td>\n",
       "      <td>-71.097995</td>\n",
       "      <td>9.5</td>\n",
       "      <td>327174.833505</td>\n",
       "      <td>4.689717e+06</td>\n",
       "      <td>19</td>\n",
       "      <td>T</td>\n",
       "    </tr>\n",
       "    <tr>\n",
       "      <th>4</th>\n",
       "      <td>2022/02/08/16:11:33.081595</td>\n",
       "      <td>$GPGGA</td>\n",
       "      <td>42.340527</td>\n",
       "      <td>-71.097995</td>\n",
       "      <td>9.5</td>\n",
       "      <td>327174.833505</td>\n",
       "      <td>4.689717e+06</td>\n",
       "      <td>19</td>\n",
       "      <td>T</td>\n",
       "    </tr>\n",
       "    <tr>\n",
       "      <th>...</th>\n",
       "      <td>...</td>\n",
       "      <td>...</td>\n",
       "      <td>...</td>\n",
       "      <td>...</td>\n",
       "      <td>...</td>\n",
       "      <td>...</td>\n",
       "      <td>...</td>\n",
       "      <td>...</td>\n",
       "      <td>...</td>\n",
       "    </tr>\n",
       "    <tr>\n",
       "      <th>623</th>\n",
       "      <td>2022/02/08/16:21:52.088290</td>\n",
       "      <td>$GPGGA</td>\n",
       "      <td>42.340527</td>\n",
       "      <td>-71.098010</td>\n",
       "      <td>6.8</td>\n",
       "      <td>327173.597807</td>\n",
       "      <td>4.689717e+06</td>\n",
       "      <td>19</td>\n",
       "      <td>T</td>\n",
       "    </tr>\n",
       "    <tr>\n",
       "      <th>624</th>\n",
       "      <td>2022/02/08/16:21:53.088234</td>\n",
       "      <td>$GPGGA</td>\n",
       "      <td>42.340527</td>\n",
       "      <td>-71.098010</td>\n",
       "      <td>6.8</td>\n",
       "      <td>327173.597807</td>\n",
       "      <td>4.689717e+06</td>\n",
       "      <td>19</td>\n",
       "      <td>T</td>\n",
       "    </tr>\n",
       "    <tr>\n",
       "      <th>625</th>\n",
       "      <td>2022/02/08/16:21:54.107744</td>\n",
       "      <td>$GPGGA</td>\n",
       "      <td>42.340527</td>\n",
       "      <td>-71.098010</td>\n",
       "      <td>6.8</td>\n",
       "      <td>327173.597807</td>\n",
       "      <td>4.689717e+06</td>\n",
       "      <td>19</td>\n",
       "      <td>T</td>\n",
       "    </tr>\n",
       "    <tr>\n",
       "      <th>626</th>\n",
       "      <td>2022/02/08/16:21:55.089481</td>\n",
       "      <td>$GPGGA</td>\n",
       "      <td>42.340527</td>\n",
       "      <td>-71.098010</td>\n",
       "      <td>6.8</td>\n",
       "      <td>327173.597807</td>\n",
       "      <td>4.689717e+06</td>\n",
       "      <td>19</td>\n",
       "      <td>T</td>\n",
       "    </tr>\n",
       "    <tr>\n",
       "      <th>627</th>\n",
       "      <td>2022/02/08/16:21:56.089093</td>\n",
       "      <td>$GPGGA</td>\n",
       "      <td>42.340527</td>\n",
       "      <td>-71.098010</td>\n",
       "      <td>6.8</td>\n",
       "      <td>327173.597807</td>\n",
       "      <td>4.689717e+06</td>\n",
       "      <td>19</td>\n",
       "      <td>T</td>\n",
       "    </tr>\n",
       "  </tbody>\n",
       "</table>\n",
       "<p>628 rows × 9 columns</p>\n",
       "</div>"
      ],
      "text/plain": [
       "                           time .header  .latitude  .longitude  .altitude  \\\n",
       "0    2022/02/08/16:11:29.101501  $GPGGA  42.340527  -71.097990       10.3   \n",
       "1    2022/02/08/16:11:30.101131  $GPGGA  42.340527  -71.097995        9.5   \n",
       "2    2022/02/08/16:11:31.102697  $GPGGA  42.340527  -71.097995        9.5   \n",
       "3    2022/02/08/16:11:32.089739  $GPGGA  42.340527  -71.097995        9.5   \n",
       "4    2022/02/08/16:11:33.081595  $GPGGA  42.340527  -71.097995        9.5   \n",
       "..                          ...     ...        ...         ...        ...   \n",
       "623  2022/02/08/16:21:52.088290  $GPGGA  42.340527  -71.098010        6.8   \n",
       "624  2022/02/08/16:21:53.088234  $GPGGA  42.340527  -71.098010        6.8   \n",
       "625  2022/02/08/16:21:54.107744  $GPGGA  42.340527  -71.098010        6.8   \n",
       "626  2022/02/08/16:21:55.089481  $GPGGA  42.340527  -71.098010        6.8   \n",
       "627  2022/02/08/16:21:56.089093  $GPGGA  42.340527  -71.098010        6.8   \n",
       "\n",
       "      .utm_easting  .utm_northing  .zone .letter  \n",
       "0    327175.245404   4.689717e+06     19       T  \n",
       "1    327174.833505   4.689717e+06     19       T  \n",
       "2    327174.833505   4.689717e+06     19       T  \n",
       "3    327174.833505   4.689717e+06     19       T  \n",
       "4    327174.833505   4.689717e+06     19       T  \n",
       "..             ...            ...    ...     ...  \n",
       "623  327173.597807   4.689717e+06     19       T  \n",
       "624  327173.597807   4.689717e+06     19       T  \n",
       "625  327173.597807   4.689717e+06     19       T  \n",
       "626  327173.597807   4.689717e+06     19       T  \n",
       "627  327173.597807   4.689717e+06     19       T  \n",
       "\n",
       "[628 rows x 9 columns]"
      ]
     },
     "execution_count": 251,
     "metadata": {},
     "output_type": "execute_result"
    }
   ],
   "source": [
    "stationary_data\n"
   ]
  },
  {
   "cell_type": "code",
   "execution_count": 252,
   "id": "fd8ff899",
   "metadata": {},
   "outputs": [],
   "source": [
    "\n",
    "plt.rcParams['figure.figsize'] = [20,10]\n",
    "\n",
    "\n"
   ]
  },
  {
   "cell_type": "code",
   "execution_count": null,
   "id": "3920907c",
   "metadata": {},
   "outputs": [],
   "source": [
    "\n"
   ]
  },
  {
   "cell_type": "markdown",
   "id": "fc00c464",
   "metadata": {},
   "source": []
  },
  {
   "cell_type": "code",
   "execution_count": 253,
   "id": "1ed189cf",
   "metadata": {},
   "outputs": [],
   "source": [
    "#plt.plot(n0, 'bo')\n",
    "#plt.show\n",
    "#plt.title('Northing vs time')\n",
    "#plt.xlabel('Time in seconds')\n",
    "#plt.ylabel(' Northing in metres')"
   ]
  },
  {
   "cell_type": "code",
   "execution_count": 222,
   "id": "25d0971c",
   "metadata": {},
   "outputs": [
    {
     "data": {
      "text/plain": [
       "Text(0, 0.5, 'UTM Northing in metres')"
      ]
     },
     "execution_count": 222,
     "metadata": {},
     "output_type": "execute_result"
    },
    {
     "data": {
      "image/png": "[encoded data removed]",
      "text/plain": [
       "<Figure size 1440x720 with 1 Axes>"
      ]
     },
     "metadata": {
      "needs_background": "light"
     },
     "output_type": "display_data"
    }
   ],
   "source": [
    "plt.plot(e0,n0,'go')\n",
    "plt.show\n",
    "\n",
    "plt.title('Position Coordinates')\n",
    "plt.xlabel('UTM Easting in metres')\n",
    "plt.ylabel('UTM Northing in metres')\n"
   ]
  },
  {
   "cell_type": "code",
   "execution_count": 223,
   "id": "70fe327a",
   "metadata": {},
   "outputs": [],
   "source": [
    "SDE=stationary_data['.utm_easting'].std()\n",
    "SDN=stationary_data['.utm_northing'].std()"
   ]
  },
  {
   "cell_type": "code",
   "execution_count": 224,
   "id": "6d56a158",
   "metadata": {},
   "outputs": [
    {
     "data": {
      "text/plain": [
       "0.5317083379501736"
      ]
     },
     "execution_count": 224,
     "metadata": {},
     "output_type": "execute_result"
    }
   ],
   "source": [
    "SDE               #Standard Deviation of utm_easting "
   ]
  },
  {
   "cell_type": "code",
   "execution_count": 225,
   "id": "ba68bc6d",
   "metadata": {},
   "outputs": [
    {
     "data": {
      "text/plain": [
       "0.1275429745767697"
      ]
     },
     "execution_count": 225,
     "metadata": {},
     "output_type": "execute_result"
    }
   ],
   "source": [
    "SDN              #Standard Deviation of utm_northing "
   ]
  },
  {
   "cell_type": "code",
   "execution_count": 260,
   "id": "f6004403",
   "metadata": {
    "scrolled": false
   },
   "outputs": [
    {
     "data": {
      "text/plain": [
       "Text(0, 0.5, 'Altitude in meters')"
      ]
     },
     "execution_count": 260,
     "metadata": {},
     "output_type": "execute_result"
    },
    {
     "data": {
      "image/png": "[encoded data removed]",
      "text/plain": [
       "<Figure size 1440x720 with 1 Axes>"
      ]
     },
     "metadata": {
      "needs_background": "light"
     },
     "output_type": "display_data"
    }
   ],
   "source": [
    "plt.plot(a0,'go')\n",
    "plt.title('Altitude Plot')\n",
    "plt.hlines(stationary_data['.altitude'].mean(), xmin=0 , xmax=628)\n",
    "plt.xlabel('Time in seconds')\n",
    "plt.ylabel('Altitude in meters')"
   ]
  },
  {
   "cell_type": "code",
   "execution_count": 227,
   "id": "9d575a08",
   "metadata": {},
   "outputs": [],
   "source": [
    "SDA=stationary_data['.altitude'].std()   ##Standard Deviation of Altitude "
   ]
  },
  {
   "cell_type": "code",
   "execution_count": 228,
   "id": "c9df3b76",
   "metadata": {},
   "outputs": [
    {
     "data": {
      "text/plain": [
       "0.7445130748398329"
      ]
     },
     "execution_count": 228,
     "metadata": {},
     "output_type": "execute_result"
    }
   ],
   "source": [
    "SDA"
   ]
  },
  {
   "cell_type": "code",
   "execution_count": null,
   "id": "bb057a63",
   "metadata": {},
   "outputs": [],
   "source": []
  },
  {
   "cell_type": "code",
   "execution_count": null,
   "id": "4321ca0f",
   "metadata": {},
   "outputs": [],
   "source": [
    "#### moving data analysis"
   ]
  },
  {
   "cell_type": "code",
   "execution_count": 255,
   "id": "6755ad6d",
   "metadata": {},
   "outputs": [],
   "source": [
    "moveone_data = pd.read_csv('2022-02-08-16-22-30-gps_message.csv')"
   ]
  },
  {
   "cell_type": "code",
   "execution_count": 256,
   "id": "93b8f4bc",
   "metadata": {},
   "outputs": [
    {
     "data": {
      "text/html": [
       "<div>\n",
       "<style scoped>\n",
       "    .dataframe tbody tr th:only-of-type {\n",
       "        vertical-align: middle;\n",
       "    }\n",
       "\n",
       "    .dataframe tbody tr th {\n",
       "        vertical-align: top;\n",
       "    }\n",
       "\n",
       "    .dataframe thead th {\n",
       "        text-align: right;\n",
       "    }\n",
       "</style>\n",
       "<table border=\"1\" class=\"dataframe\">\n",
       "  <thead>\n",
       "    <tr style=\"text-align: right;\">\n",
       "      <th></th>\n",
       "      <th>time</th>\n",
       "      <th>.header</th>\n",
       "      <th>.latitude</th>\n",
       "      <th>.longitude</th>\n",
       "      <th>.altitude</th>\n",
       "      <th>.utm_easting</th>\n",
       "      <th>.utm_northing</th>\n",
       "      <th>.zone</th>\n",
       "      <th>.letter</th>\n",
       "    </tr>\n",
       "  </thead>\n",
       "  <tbody>\n",
       "    <tr>\n",
       "      <th>0</th>\n",
       "      <td>2022/02/08/16:22:31.094057</td>\n",
       "      <td>$GPGGA</td>\n",
       "      <td>42.340517</td>\n",
       "      <td>-71.098018</td>\n",
       "      <td>7.4</td>\n",
       "      <td>327172.883910</td>\n",
       "      <td>4.689716e+06</td>\n",
       "      <td>19</td>\n",
       "      <td>T</td>\n",
       "    </tr>\n",
       "    <tr>\n",
       "      <th>1</th>\n",
       "      <td>2022/02/08/16:22:32.071775</td>\n",
       "      <td>$GPGGA</td>\n",
       "      <td>42.340520</td>\n",
       "      <td>-71.098015</td>\n",
       "      <td>7.0</td>\n",
       "      <td>327173.167642</td>\n",
       "      <td>4.689717e+06</td>\n",
       "      <td>19</td>\n",
       "      <td>T</td>\n",
       "    </tr>\n",
       "    <tr>\n",
       "      <th>2</th>\n",
       "      <td>2022/02/08/16:22:33.071835</td>\n",
       "      <td>$GPGGA</td>\n",
       "      <td>42.340527</td>\n",
       "      <td>-71.098008</td>\n",
       "      <td>6.6</td>\n",
       "      <td>327173.735107</td>\n",
       "      <td>4.689717e+06</td>\n",
       "      <td>19</td>\n",
       "      <td>T</td>\n",
       "    </tr>\n",
       "    <tr>\n",
       "      <th>3</th>\n",
       "      <td>2022/02/08/16:22:34.077243</td>\n",
       "      <td>$GPGGA</td>\n",
       "      <td>42.340533</td>\n",
       "      <td>-71.098002</td>\n",
       "      <td>6.3</td>\n",
       "      <td>327174.302572</td>\n",
       "      <td>4.689718e+06</td>\n",
       "      <td>19</td>\n",
       "      <td>T</td>\n",
       "    </tr>\n",
       "    <tr>\n",
       "      <th>4</th>\n",
       "      <td>2022/02/08/16:22:35.076494</td>\n",
       "      <td>$GPGGA</td>\n",
       "      <td>42.340538</td>\n",
       "      <td>-71.097993</td>\n",
       "      <td>6.3</td>\n",
       "      <td>327175.002769</td>\n",
       "      <td>4.689719e+06</td>\n",
       "      <td>19</td>\n",
       "      <td>T</td>\n",
       "    </tr>\n",
       "    <tr>\n",
       "      <th>...</th>\n",
       "      <td>...</td>\n",
       "      <td>...</td>\n",
       "      <td>...</td>\n",
       "      <td>...</td>\n",
       "      <td>...</td>\n",
       "      <td>...</td>\n",
       "      <td>...</td>\n",
       "      <td>...</td>\n",
       "      <td>...</td>\n",
       "    </tr>\n",
       "    <tr>\n",
       "      <th>224</th>\n",
       "      <td>2022/02/08/16:26:15.112628</td>\n",
       "      <td>$GPGGA</td>\n",
       "      <td>42.341225</td>\n",
       "      <td>-71.097130</td>\n",
       "      <td>11.4</td>\n",
       "      <td>327248.004600</td>\n",
       "      <td>4.689793e+06</td>\n",
       "      <td>19</td>\n",
       "      <td>T</td>\n",
       "    </tr>\n",
       "    <tr>\n",
       "      <th>225</th>\n",
       "      <td>2022/02/08/16:26:16.085375</td>\n",
       "      <td>$GPGGA</td>\n",
       "      <td>42.341227</td>\n",
       "      <td>-71.097132</td>\n",
       "      <td>11.4</td>\n",
       "      <td>327247.871867</td>\n",
       "      <td>4.689793e+06</td>\n",
       "      <td>19</td>\n",
       "      <td>T</td>\n",
       "    </tr>\n",
       "    <tr>\n",
       "      <th>226</th>\n",
       "      <td>2022/02/08/16:26:17.082522</td>\n",
       "      <td>$GPGGA</td>\n",
       "      <td>42.341227</td>\n",
       "      <td>-71.097132</td>\n",
       "      <td>11.3</td>\n",
       "      <td>327247.871867</td>\n",
       "      <td>4.689793e+06</td>\n",
       "      <td>19</td>\n",
       "      <td>T</td>\n",
       "    </tr>\n",
       "    <tr>\n",
       "      <th>227</th>\n",
       "      <td>2022/02/08/16:26:18.081737</td>\n",
       "      <td>$GPGGA</td>\n",
       "      <td>42.341225</td>\n",
       "      <td>-71.097133</td>\n",
       "      <td>11.2</td>\n",
       "      <td>327247.730004</td>\n",
       "      <td>4.689793e+06</td>\n",
       "      <td>19</td>\n",
       "      <td>T</td>\n",
       "    </tr>\n",
       "    <tr>\n",
       "      <th>228</th>\n",
       "      <td>2022/02/08/16:26:19.084381</td>\n",
       "      <td>$GPGGA</td>\n",
       "      <td>42.341227</td>\n",
       "      <td>-71.097133</td>\n",
       "      <td>11.3</td>\n",
       "      <td>327247.734569</td>\n",
       "      <td>4.689793e+06</td>\n",
       "      <td>19</td>\n",
       "      <td>T</td>\n",
       "    </tr>\n",
       "  </tbody>\n",
       "</table>\n",
       "<p>229 rows × 9 columns</p>\n",
       "</div>"
      ],
      "text/plain": [
       "                           time .header  .latitude  .longitude  .altitude  \\\n",
       "0    2022/02/08/16:22:31.094057  $GPGGA  42.340517  -71.098018        7.4   \n",
       "1    2022/02/08/16:22:32.071775  $GPGGA  42.340520  -71.098015        7.0   \n",
       "2    2022/02/08/16:22:33.071835  $GPGGA  42.340527  -71.098008        6.6   \n",
       "3    2022/02/08/16:22:34.077243  $GPGGA  42.340533  -71.098002        6.3   \n",
       "4    2022/02/08/16:22:35.076494  $GPGGA  42.340538  -71.097993        6.3   \n",
       "..                          ...     ...        ...         ...        ...   \n",
       "224  2022/02/08/16:26:15.112628  $GPGGA  42.341225  -71.097130       11.4   \n",
       "225  2022/02/08/16:26:16.085375  $GPGGA  42.341227  -71.097132       11.4   \n",
       "226  2022/02/08/16:26:17.082522  $GPGGA  42.341227  -71.097132       11.3   \n",
       "227  2022/02/08/16:26:18.081737  $GPGGA  42.341225  -71.097133       11.2   \n",
       "228  2022/02/08/16:26:19.084381  $GPGGA  42.341227  -71.097133       11.3   \n",
       "\n",
       "      .utm_easting  .utm_northing  .zone .letter  \n",
       "0    327172.883910   4.689716e+06     19       T  \n",
       "1    327173.167642   4.689717e+06     19       T  \n",
       "2    327173.735107   4.689717e+06     19       T  \n",
       "3    327174.302572   4.689718e+06     19       T  \n",
       "4    327175.002769   4.689719e+06     19       T  \n",
       "..             ...            ...    ...     ...  \n",
       "224  327248.004600   4.689793e+06     19       T  \n",
       "225  327247.871867   4.689793e+06     19       T  \n",
       "226  327247.871867   4.689793e+06     19       T  \n",
       "227  327247.730004   4.689793e+06     19       T  \n",
       "228  327247.734569   4.689793e+06     19       T  \n",
       "\n",
       "[229 rows x 9 columns]"
      ]
     },
     "execution_count": 256,
     "metadata": {},
     "output_type": "execute_result"
    }
   ],
   "source": [
    "moveone_data"
   ]
  },
  {
   "cell_type": "code",
   "execution_count": 257,
   "id": "8d30d033",
   "metadata": {},
   "outputs": [],
   "source": [
    "e1=moveone_data['.utm_easting']\n",
    "n1=moveone_data['.utm_northing']\n",
    "a1=moveone_data['.altitude']\n"
   ]
  },
  {
   "cell_type": "code",
   "execution_count": null,
   "id": "81101d4c",
   "metadata": {},
   "outputs": [],
   "source": []
  },
  {
   "cell_type": "code",
   "execution_count": null,
   "id": "1c25a774",
   "metadata": {},
   "outputs": [],
   "source": []
  },
  {
   "cell_type": "code",
   "execution_count": null,
   "id": "bc2443d4",
   "metadata": {},
   "outputs": [],
   "source": []
  },
  {
   "cell_type": "code",
   "execution_count": 258,
   "id": "e048f0d7",
   "metadata": {},
   "outputs": [
    {
     "data": {
      "text/plain": [
       "[<matplotlib.lines.Line2D at 0x7fad283365e0>]"
      ]
     },
     "execution_count": 258,
     "metadata": {},
     "output_type": "execute_result"
    },
    {
     "data": {
      "image/png": "[encoded data removed]",
      "text/plain": [
       "<Figure size 1440x720 with 1 Axes>"
      ]
     },
     "metadata": {
      "needs_background": "light"
     },
     "output_type": "display_data"
    }
   ],
   "source": [
    "plt.plot(e1,n1)\n",
    "\n",
    "plt.title('Position Coordinates')\n",
    "plt.xlabel('UTM Easting in metres')\n",
    "plt.ylabel('UTM Northing in metres')\n",
    "\n",
    "x = np.array(e1)\n",
    "y = np.array(n1)\n",
    "m, b = np.polyfit(e1,n1, 1)\n",
    "plt.plot(x, m*e1 + b)\n"
   ]
  },
  {
   "cell_type": "code",
   "execution_count": 236,
   "id": "ba8fee6a",
   "metadata": {},
   "outputs": [],
   "source": [
    "new_y = m*e1 + b \n"
   ]
  },
  {
   "cell_type": "code",
   "execution_count": 237,
   "id": "83cd39cc",
   "metadata": {},
   "outputs": [
    {
     "data": {
      "text/plain": [
       "0      4.689718e+06\n",
       "1      4.689718e+06\n",
       "2      4.689719e+06\n",
       "3      4.689719e+06\n",
       "4      4.689720e+06\n",
       "           ...     \n",
       "224    4.689792e+06\n",
       "225    4.689792e+06\n",
       "226    4.689792e+06\n",
       "227    4.689792e+06\n",
       "228    4.689792e+06\n",
       "Name: .utm_easting, Length: 229, dtype: float64"
      ]
     },
     "execution_count": 237,
     "metadata": {},
     "output_type": "execute_result"
    }
   ],
   "source": [
    "new_y "
   ]
  },
  {
   "cell_type": "code",
   "execution_count": 238,
   "id": "d9a2e8ca",
   "metadata": {},
   "outputs": [
    {
     "data": {
      "text/plain": [
       "array([4689717.76723694, 4689718.04781853, 4689718.60898161,\n",
       "       4689719.17014458, 4689719.86256673, 4689720.41921378,\n",
       "       4689720.84008578, 4689721.39673267, 4689721.81308887,\n",
       "       4689722.38328255, 4689722.80415425, 4689723.22051026,\n",
       "       4689723.50109133, 4689723.78618797, 4689724.06676897,\n",
       "       4689724.34283434, 4689724.75919017, 4689725.03525551,\n",
       "       4689725.3158364 , 4689725.73219213, 4689726.0082574 ,\n",
       "       4689726.42461306, 4689726.7006783 , 4689727.11703389,\n",
       "       4689727.39309909, 4689727.80945461, 4689728.09003527,\n",
       "       4689728.3706159 , 4689728.78697131, 4689729.20332668,\n",
       "       4689729.48390721, 4689729.9002625 , 4689730.31661775,\n",
       "       4689730.73748838, 4689731.01806877, 4689731.43442389,\n",
       "       4689731.71500422, 4689731.99558451, 4689732.41193952,\n",
       "       4689732.68800437, 4689732.96858458, 4689733.24916476,\n",
       "       4689733.52974492, 4689733.94609975, 4689734.22667984,\n",
       "       4689734.64303459, 4689734.92361462, 4689735.1996793 ,\n",
       "       4689735.48025928, 4689735.75632393, 4689735.9011292 ,\n",
       "       4689736.31748376, 4689736.59806363, 4689736.87864348,\n",
       "       4689737.29499793, 4689737.57557771, 4689737.85615746,\n",
       "       4689738.13673719, 4689738.41731689, 4689738.56212197,\n",
       "       4689738.84270161, 4689738.98750666, 4689739.26808626,\n",
       "       4689739.54866583, 4689739.82924537, 4689740.10982489,\n",
       "       4689740.52617892, 4689740.80675837, 4689741.08282262,\n",
       "       4689741.36340202, 4689741.63946623, 4689741.92004558,\n",
       "       4689742.2006249 , 4689742.4812042 , 4689742.76178347,\n",
       "       4689743.03784758, 4689743.3184268 , 4689743.59900598,\n",
       "       4689743.87507004, 4689744.15564918, 4689744.4317132 ,\n",
       "       4689744.7077772 , 4689744.98835627, 4689745.26442024,\n",
       "       4689745.40922482, 4689745.68980382, 4689745.83460837,\n",
       "       4689746.11067227, 4689746.39125119, 4689746.6718301 ,\n",
       "       4689746.95240897, 4689747.22847279, 4689747.50453659,\n",
       "       4689747.78060038, 4689748.05666416, 4689748.20146854,\n",
       "       4689748.47301729, 4689748.74908102, 4689749.02965973,\n",
       "       4689749.30572343, 4689749.71756147, 4689749.9981401 ,\n",
       "       4689750.27420374, 4689750.69055665, 4689750.96662026,\n",
       "       4689751.24719878, 4689751.52326236, 4689751.80384082,\n",
       "       4689752.08441926, 4689752.22922337, 4689752.50528687,\n",
       "       4689752.78135035, 4689753.19770299, 4689753.33799215,\n",
       "       4689753.61405558, 4689753.890119  , 4689754.17069726,\n",
       "       4689754.44676064, 4689754.72282401, 4689754.99888737,\n",
       "       4689755.27495071, 4689755.55552885, 4689755.83610697,\n",
       "       4689756.11217025, 4689756.38823352, 4689756.80458579,\n",
       "       4689757.0851638 , 4689757.49700123, 4689757.77757918,\n",
       "       4689758.18941655, 4689758.46999445, 4689758.88183177,\n",
       "       4689759.16240961, 4689759.5787616 , 4689759.85482467,\n",
       "       4689760.27117659, 4689760.5517543 , 4689760.96359147,\n",
       "       4689761.24416913, 4689761.52474676, 4689761.93658385,\n",
       "       4689762.21716143, 4689762.49773897, 4689762.91409061,\n",
       "       4689763.1946681 , 4689763.61101966, 4689764.02737117,\n",
       "       4689764.30343396, 4689764.71978541, 4689765.00036274,\n",
       "       4689765.41671411, 4689765.69729138, 4689765.97786862,\n",
       "       4689766.25844582, 4689766.53902301, 4689766.95537419,\n",
       "       4689767.23595131, 4689767.64778791, 4689768.06413898,\n",
       "       4689768.34471601, 4689768.625293  , 4689769.04164397,\n",
       "       4689769.3222209 , 4689769.60279781, 4689770.01914866,\n",
       "       4689770.43549946, 4689770.71607627, 4689770.99665305,\n",
       "       4689771.41300374, 4689771.82935439, 4689772.245705  ,\n",
       "       4689772.66205557, 4689772.94263218, 4689773.35898267,\n",
       "       4689773.77984747, 4689774.19619786, 4689774.61254822,\n",
       "       4689775.02889852, 4689775.4497631 , 4689775.86611332,\n",
       "       4689776.28246349, 4689776.69881361, 4689777.1151637 ,\n",
       "       4689777.536028  , 4689778.08815181, 4689778.50450175,\n",
       "       4689778.92085164, 4689779.33720149, 4689779.88932509,\n",
       "       4689780.16990107, 4689780.5862508 , 4689781.00260048,\n",
       "       4689781.41895012, 4689781.83529972, 4689782.25164927,\n",
       "       4689782.66799878, 4689782.95308865, 4689783.36943807,\n",
       "       4689783.65001374, 4689784.06636308, 4689784.35145278,\n",
       "       4689784.63202835, 4689784.91260389, 4689785.32895308,\n",
       "       4689785.61404262, 4689786.02587766, 4689786.44674077,\n",
       "       4689786.86308978, 4689787.14366512, 4689787.69578768,\n",
       "       4689788.11213656, 4689788.5284854 , 4689788.8090606 ,\n",
       "       4689789.22992333, 4689789.51049846, 4689789.93136109,\n",
       "       4689790.21193614, 4689790.49702511, 4689790.7776001 ,\n",
       "       4689791.06268899, 4689791.34326391, 4689791.62383881,\n",
       "       4689791.90441368, 4689792.04921501, 4689792.05372891,\n",
       "       4689791.92246931, 4689791.92246931, 4689791.7821819 ,\n",
       "       4689791.78669581])"
      ]
     },
     "execution_count": 238,
     "metadata": {},
     "output_type": "execute_result"
    }
   ],
   "source": [
    "np.array(new_y)"
   ]
  },
  {
   "cell_type": "code",
   "execution_count": 239,
   "id": "7e27a6b7",
   "metadata": {},
   "outputs": [],
   "source": [
    "MS=np.square(np.array(new_y)-np.array(n1))"
   ]
  },
  {
   "cell_type": "code",
   "execution_count": 240,
   "id": "62e6f84a",
   "metadata": {},
   "outputs": [],
   "source": [
    "sum = 0\n",
    "for i in MS:\n",
    "    sum=sum+i\n",
    "    \n",
    "MSE=sum/229"
   ]
  },
  {
   "cell_type": "code",
   "execution_count": 241,
   "id": "0ecb5378",
   "metadata": {},
   "outputs": [
    {
     "data": {
      "text/plain": [
       "0.6045204815197256"
      ]
     },
     "execution_count": 241,
     "metadata": {},
     "output_type": "execute_result"
    }
   ],
   "source": [
    "MSE #mean square error of utm_northing\n"
   ]
  },
  {
   "cell_type": "code",
   "execution_count": 259,
   "id": "003d3b30",
   "metadata": {},
   "outputs": [
    {
     "data": {
      "text/plain": [
       "[<matplotlib.lines.Line2D at 0x7fad2829e820>]"
      ]
     },
     "execution_count": 259,
     "metadata": {},
     "output_type": "execute_result"
    },
    {
     "data": {
      "image/png": "[encoded data removed]",
      "text/plain": [
       "<Figure size 1440x720 with 1 Axes>"
      ]
     },
     "metadata": {
      "needs_background": "light"
     },
     "output_type": "display_data"
    }
   ],
   "source": [
    "plt.plot(n1,e1)\n",
    "\n",
    "plt.title('Position Coordinates')\n",
    "plt.ylabel('UTM Easting in metres')\n",
    "plt.xlabel('UTM Northing in metres')\n",
    "\n",
    "x = np.array(n1)\n",
    "y = np.array(e1)\n",
    "m, b = np.polyfit(n1,e1, 1)\n",
    "plt.plot(x, m*n1 + b)\n"
   ]
  },
  {
   "cell_type": "code",
   "execution_count": 243,
   "id": "dbc486c3",
   "metadata": {},
   "outputs": [],
   "source": [
    "new_y = m*n1 + b \n"
   ]
  },
  {
   "cell_type": "code",
   "execution_count": 244,
   "id": "934616ba",
   "metadata": {},
   "outputs": [],
   "source": [
    "MS=np.square(np.array(new_y)-np.array(e1))"
   ]
  },
  {
   "cell_type": "code",
   "execution_count": 245,
   "id": "22a51747",
   "metadata": {},
   "outputs": [],
   "source": [
    "sum = 0\n",
    "for i in MS:\n",
    "    sum=sum+i\n",
    "    \n",
    "MSE=sum/229"
   ]
  },
  {
   "cell_type": "code",
   "execution_count": 246,
   "id": "1d94580e",
   "metadata": {},
   "outputs": [
    {
     "data": {
      "text/plain": [
       "0.617341103560727"
      ]
     },
     "execution_count": 246,
     "metadata": {},
     "output_type": "execute_result"
    }
   ],
   "source": [
    "MSE    #MSE: Mean Square Error of utm_easting"
   ]
  },
  {
   "cell_type": "code",
   "execution_count": 247,
   "id": "4fc93350",
   "metadata": {},
   "outputs": [],
   "source": [
    "#plt.plot(e1)\n",
    "#plt.show\n",
    "#plt.title('Easting vs time')\n",
    "#plt.xlabel('Time in seconds')\n",
    "#plt.ylabel('UTM Easting in metres')"
   ]
  },
  {
   "cell_type": "code",
   "execution_count": 98,
   "id": "8e75307d",
   "metadata": {},
   "outputs": [],
   "source": [
    "#plt.plot(n1)\n",
    "#plt.show\n",
    "#plt.title('Northing vs Time')\n",
    "#plt.xlabel('Time in seconds')\n",
    "#plt.ylabel('UTM Northing in metres')"
   ]
  },
  {
   "cell_type": "code",
   "execution_count": 261,
   "id": "4bf8c68b",
   "metadata": {},
   "outputs": [
    {
     "data": {
      "text/plain": [
       "<matplotlib.collections.LineCollection at 0x7fad28235940>"
      ]
     },
     "execution_count": 261,
     "metadata": {},
     "output_type": "execute_result"
    },
    {
     "data": {
      "image/png": "[encoded data removed]",
      "text/plain": [
       "<Figure size 1440x720 with 1 Axes>"
      ]
     },
     "metadata": {
      "needs_background": "light"
     },
     "output_type": "display_data"
    }
   ],
   "source": [
    "plt.plot(a1)\n",
    "plt.show\n",
    "plt.title('Altitude Plot')\n",
    "plt.xlabel('Time in seconds')\n",
    "plt.ylabel('Altitude in meters')\n",
    "plt.show\n",
    "plt.hlines(moveone_data['.altitude'].mean(), xmin=0 , xmax=229)"
   ]
  },
  {
   "cell_type": "code",
   "execution_count": 112,
   "id": "3962e779",
   "metadata": {},
   "outputs": [],
   "source": [
    "SDA=moveone_data['.altitude'].std()"
   ]
  },
  {
   "cell_type": "code",
   "execution_count": 113,
   "id": "78c10626",
   "metadata": {},
   "outputs": [
    {
     "data": {
      "text/plain": [
       "1.4017926380775954"
      ]
     },
     "execution_count": 113,
     "metadata": {},
     "output_type": "execute_result"
    }
   ],
   "source": [
    "SDA #Standard Deviation of Altitude"
   ]
  },
  {
   "cell_type": "code",
   "execution_count": 201,
   "id": "0922d308",
   "metadata": {},
   "outputs": [],
   "source": [
    "#movetwo_data = pd.read_csv('2022-02-08-16-26-44-gps_message.csv')"
   ]
  },
  {
   "cell_type": "code",
   "execution_count": 202,
   "id": "d1e35100",
   "metadata": {},
   "outputs": [],
   "source": [
    "#movetwo_data"
   ]
  },
  {
   "cell_type": "code",
   "execution_count": 203,
   "id": "12a39379",
   "metadata": {},
   "outputs": [],
   "source": [
    "#e2=movetwo_data['.utm_easting']\n",
    "#n2=movetwo_data['.utm_northing']\n",
    "#a2=movetwo_data['.altitude']"
   ]
  },
  {
   "cell_type": "code",
   "execution_count": 204,
   "id": "a6827650",
   "metadata": {},
   "outputs": [],
   "source": [
    "#SDA=movetwo_data['.altitude'].std()"
   ]
  },
  {
   "cell_type": "code",
   "execution_count": 205,
   "id": "ae53455e",
   "metadata": {},
   "outputs": [],
   "source": [
    "#SDA"
   ]
  },
  {
   "cell_type": "code",
   "execution_count": 206,
   "id": "9ebc37b5",
   "metadata": {},
   "outputs": [],
   "source": [
    "#plt.plot(e2,n2)\n",
    "#plt.title('Position Coordinates')\n",
    "#plt.xlabel('UTM Easting in metres')\n",
    "#plt.ylabel('UTM Northing in metres')"
   ]
  },
  {
   "cell_type": "code",
   "execution_count": 207,
   "id": "5d27113e",
   "metadata": {},
   "outputs": [],
   "source": [
    "#plt.plot(a2)\n",
    "#plt.show\n",
    "#plt.title('Altitude Plot')\n",
    "#plt.xlabel('Altitude in meters')\n",
    "#plt.ylabel('Time in seconds')\n",
    "#plt.show"
   ]
  },
  {
   "cell_type": "code",
   "execution_count": 208,
   "id": "cca1f6b0",
   "metadata": {},
   "outputs": [],
   "source": [
    "#plt.plot(e2)\n",
    "#plt.show\n",
    "#plt.title('Eastin vs Time')\n",
    "#plt.xlabel('time in seconds')\n",
    "#plt.ylabel('UTM Easting in metres')"
   ]
  },
  {
   "cell_type": "code",
   "execution_count": 209,
   "id": "a0767426",
   "metadata": {},
   "outputs": [],
   "source": [
    "#plt.plot(n2)\n",
    "#plt.show\n",
    "#plt.title('Northing vs Time')\n",
    "#plt.xlabel('Time in Seconds')\n",
    "#plt.ylabel('UTM Northing in metres')"
   ]
  },
  {
   "cell_type": "code",
   "execution_count": null,
   "id": "0f24fa41",
   "metadata": {},
   "outputs": [],
   "source": []
  },
  {
   "cell_type": "code",
   "execution_count": null,
   "id": "3a5253be",
   "metadata": {},
   "outputs": [],
   "source": []
  },
  {
   "cell_type": "code",
   "execution_count": null,
   "id": "7afbc21d",
   "metadata": {},
   "outputs": [],
   "source": []
  },
  {
   "cell_type": "code",
   "execution_count": null,
   "id": "1750f64b",
   "metadata": {},
   "outputs": [],
   "source": []
  },
  {
   "cell_type": "code",
   "execution_count": null,
   "id": "eaca2ad4",
   "metadata": {},
   "outputs": [],
   "source": []
  },
  {
   "cell_type": "code",
   "execution_count": null,
   "id": "cc6ad3c4",
   "metadata": {},
   "outputs": [],
   "source": []
  },
  {
   "cell_type": "code",
   "execution_count": null,
   "id": "f41d547b",
   "metadata": {},
   "outputs": [],
   "source": []
  },
  {
   "cell_type": "code",
   "execution_count": null,
   "id": "22be0812",
   "metadata": {},
   "outputs": [],
   "source": []
  },
  {
   "cell_type": "code",
   "execution_count": null,
   "id": "37ff5f92",
   "metadata": {},
   "outputs": [],
   "source": []
  }
 ],
 "metadata": {
  "kernelspec": {
   "display_name": "Python 3 (ipykernel)",
   "language": "python",
   "name": "python3"
  },
  "language_info": {
   "codemirror_mode": {
    "name": "ipython",
    "version": 3
   },
   "file_extension": ".py",
   "mimetype": "text/x-python",
   "name": "python",
   "nbconvert_exporter": "python",
   "pygments_lexer": "ipython3",
   "version": "3.8.10"
  }
 },
 "nbformat": 4,
 "nbformat_minor": 5
}
